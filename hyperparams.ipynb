{
 "cells": [
  {
   "cell_type": "markdown",
   "metadata": {},
   "source": [
    "## Imports"
   ]
  },
  {
   "cell_type": "code",
   "execution_count": 1,
   "metadata": {},
   "outputs": [],
   "source": [
    "import numpy as np\n",
    "\n",
    "from src.lstm_model import LSTMModel\n",
    "from src.imdb_data_loader import IMDBDataLoader\n",
    "from src.load_data import prepare_data, load_vectors\n",
    "from src.train_test import train, test, eval_epoch\n",
    "from src.hyperparam_optimizers.grid_search import GridSearchOptimizer\n",
    "from src.hyperparam_optimizers.random_search import RandomSearchOptimizer\n",
    "from src.hyperparam_optimizers.hyperopt import HyperoptOptimizer\n",
    "from src.hyperparam_optimizers.skopt import SkoptOptimizer\n",
    "from src.hyperparam_optimizers.optuna import OptunaOptimizer\n",
    "\n",
    "%load_ext autoreload\n",
    "%autoreload 2"
   ]
  },
  {
   "cell_type": "markdown",
   "metadata": {},
   "source": [
    "# Hyperparams"
   ]
  },
  {
   "cell_type": "code",
   "execution_count": 2,
   "metadata": {},
   "outputs": [],
   "source": [
    "params_grid = {\n",
    "    'hidden_size': [64, 128, 256, 512],\n",
    "    'num_layers': [1, 2],\n",
    "    'dropout': [0.5],\n",
    "    'bidirectional': [True, False],\n",
    "    'batch_size': [64, 256],\n",
    "    'lr': [1e-3, 1e-2, 1e-1]\n",
    "}"
   ]
  },
  {
   "cell_type": "markdown",
   "metadata": {},
   "source": [
    "## GridSearch"
   ]
  },
  {
   "cell_type": "code",
   "execution_count": 3,
   "metadata": {},
   "outputs": [
    {
     "name": "stderr",
     "output_type": "stream",
     "text": [
      "Grid search params: 100%|██████████| 96/96 [00:00<00:00, 6552.85it/s]"
     ]
    },
    {
     "name": "stdout",
     "output_type": "stream",
     "text": [
      "Best params: (256, 2, 0.5, True, 256, 0.01)\n",
      "Best loss: 0.6289280581474305\n",
      "Best acc: 0.90576\n",
      "Test acc: 0.89716\n",
      "Total time: 130357.84285259247\n",
      "Number of iterations: 96\n"
     ]
    },
    {
     "name": "stderr",
     "output_type": "stream",
     "text": [
      "\n"
     ]
    }
   ],
   "source": [
    "gs_optimizer = GridSearchOptimizer()\n",
    "gs_optimizer.optimize('checkpoints', params_grid, i_epoch=20)\n",
    "print(f'Best params: {gs_optimizer.best_params}')\n",
    "print(f'Best loss: {gs_optimizer.best_loss}')\n",
    "print(f'Best acc: {gs_optimizer.best_accuracy}')\n",
    "print(f'Test acc: {gs_optimizer.test_accuracy}')\n",
    "print(f'Total time: {gs_optimizer.total_time}')\n",
    "print(f'Number of iterations: {len(gs_optimizer)}')"
   ]
  },
  {
   "cell_type": "markdown",
   "metadata": {},
   "source": [
    "## Random Search"
   ]
  },
  {
   "cell_type": "code",
   "execution_count": 4,
   "metadata": {},
   "outputs": [
    {
     "name": "stderr",
     "output_type": "stream",
     "text": [
      "Random search iters: 100%|██████████| 96/96 [00:00<00:00, 6633.60it/s]"
     ]
    },
    {
     "name": "stdout",
     "output_type": "stream",
     "text": [
      "Best params: (256, 2, 0.5, True, 256, 0.01)\n",
      "Best loss: 0.6289280581474305\n",
      "Best acc: 0.90576\n",
      "Test acc: 0.89716\n",
      "Total time: 78777.29645323753\n",
      "Number of iterations: 96\n"
     ]
    },
    {
     "name": "stderr",
     "output_type": "stream",
     "text": [
      "\n"
     ]
    }
   ],
   "source": [
    "rs_optimizer = RandomSearchOptimizer(96)\n",
    "rs_optimizer.optimize('checkpoints', params_grid, i_epoch=20)\n",
    "print(f'Best params: {rs_optimizer.best_params}')\n",
    "print(f'Best loss: {rs_optimizer.best_loss}')\n",
    "print(f'Best acc: {rs_optimizer.best_accuracy}')\n",
    "print(f'Test acc: {rs_optimizer.test_accuracy}')\n",
    "print(f'Total time: {rs_optimizer.total_time}')\n",
    "print(f'Number of iterations: {len(rs_optimizer)}')"
   ]
  },
  {
   "cell_type": "markdown",
   "metadata": {},
   "source": [
    "## Hyperopt"
   ]
  },
  {
   "cell_type": "markdown",
   "metadata": {},
   "source": [
    "Использование `hyperopt` подразумевает следующие шаги:\n",
    "- описание целевой функции для минимизации\n",
    "- пространство, по которому будет осуществляться поиск\n",
    "- база данных, в которой нужно хранить вычисления во всех точках поиска\n",
    "- используемый алгоритм\n",
    "\n",
    "Выбор поискового алгоритма осуществляется просто через параметр `algo=hyperopt.tpe.suggest`, `algo=hyperopt.random.suggest`\n",
    "\n",
    "Так как вычисления будут проводиться на GPU, нет смысла распараллеливать оптимизацию гиперпараметров: всё может обвалиться по памяти."
   ]
  },
  {
   "cell_type": "code",
   "execution_count": 6,
   "metadata": {},
   "outputs": [
    {
     "name": "stdout",
     "output_type": "stream",
     "text": [
      "100%|██████████| 96/96 [00:00<00:00, 148.65trial/s, best loss: 0.09423999999999999]\n",
      "Best params: [256, 2, 0.5, True, 256, 0.01]\n",
      "Best loss: 0.6289280581474305\n",
      "Best acc: 0.90576\n",
      "Test acc: 0.89716\n",
      "Total time: 68920.23269891739\n",
      "Number of iterations: 96\n"
     ]
    }
   ],
   "source": [
    "hyperopt_optimizer = HyperoptOptimizer(96)\n",
    "hyperopt_optimizer.optimize('checkpoints', params_grid, i_epoch=20)\n",
    "print(f'Best params: {hyperopt_optimizer.best_params}')\n",
    "print(f'Best loss: {hyperopt_optimizer.best_loss}')\n",
    "print(f'Best acc: {hyperopt_optimizer.best_accuracy}')\n",
    "print(f'Test acc: {hyperopt_optimizer.test_accuracy}')\n",
    "print(f'Total time: {hyperopt_optimizer.total_time}')\n",
    "print(f'Number of iterations: {len(hyperopt_optimizer)}')"
   ]
  },
  {
   "cell_type": "markdown",
   "metadata": {},
   "source": [
    "## Scikit-optimize"
   ]
  },
  {
   "cell_type": "code",
   "execution_count": 7,
   "metadata": {
    "scrolled": true
   },
   "outputs": [
    {
     "name": "stderr",
     "output_type": "stream",
     "text": [
      "/home/local/AP-TEAM/ostroukhov/.pyenv/versions/habr/lib/python3.6/site-packages/skopt/optimizer/optimizer.py:449: UserWarning: The objective has been evaluated at this point before.\n",
      "  warnings.warn(\"The objective has been evaluated \"\n",
      "/home/local/AP-TEAM/ostroukhov/.pyenv/versions/habr/lib/python3.6/site-packages/skopt/optimizer/optimizer.py:449: UserWarning: The objective has been evaluated at this point before.\n",
      "  warnings.warn(\"The objective has been evaluated \"\n",
      "/home/local/AP-TEAM/ostroukhov/.pyenv/versions/habr/lib/python3.6/site-packages/skopt/optimizer/optimizer.py:449: UserWarning: The objective has been evaluated at this point before.\n",
      "  warnings.warn(\"The objective has been evaluated \"\n",
      "/home/local/AP-TEAM/ostroukhov/.pyenv/versions/habr/lib/python3.6/site-packages/skopt/optimizer/optimizer.py:449: UserWarning: The objective has been evaluated at this point before.\n",
      "  warnings.warn(\"The objective has been evaluated \"\n",
      "/home/local/AP-TEAM/ostroukhov/.pyenv/versions/habr/lib/python3.6/site-packages/skopt/optimizer/optimizer.py:449: UserWarning: The objective has been evaluated at this point before.\n",
      "  warnings.warn(\"The objective has been evaluated \"\n",
      "/home/local/AP-TEAM/ostroukhov/.pyenv/versions/habr/lib/python3.6/site-packages/skopt/optimizer/optimizer.py:449: UserWarning: The objective has been evaluated at this point before.\n",
      "  warnings.warn(\"The objective has been evaluated \"\n",
      "/home/local/AP-TEAM/ostroukhov/.pyenv/versions/habr/lib/python3.6/site-packages/skopt/optimizer/optimizer.py:449: UserWarning: The objective has been evaluated at this point before.\n",
      "  warnings.warn(\"The objective has been evaluated \"\n",
      "/home/local/AP-TEAM/ostroukhov/.pyenv/versions/habr/lib/python3.6/site-packages/skopt/optimizer/optimizer.py:449: UserWarning: The objective has been evaluated at this point before.\n",
      "  warnings.warn(\"The objective has been evaluated \"\n",
      "/home/local/AP-TEAM/ostroukhov/.pyenv/versions/habr/lib/python3.6/site-packages/skopt/optimizer/optimizer.py:449: UserWarning: The objective has been evaluated at this point before.\n",
      "  warnings.warn(\"The objective has been evaluated \"\n",
      "/home/local/AP-TEAM/ostroukhov/.pyenv/versions/habr/lib/python3.6/site-packages/skopt/optimizer/optimizer.py:449: UserWarning: The objective has been evaluated at this point before.\n",
      "  warnings.warn(\"The objective has been evaluated \"\n",
      "/home/local/AP-TEAM/ostroukhov/.pyenv/versions/habr/lib/python3.6/site-packages/skopt/optimizer/optimizer.py:449: UserWarning: The objective has been evaluated at this point before.\n",
      "  warnings.warn(\"The objective has been evaluated \"\n",
      "/home/local/AP-TEAM/ostroukhov/.pyenv/versions/habr/lib/python3.6/site-packages/skopt/optimizer/optimizer.py:449: UserWarning: The objective has been evaluated at this point before.\n",
      "  warnings.warn(\"The objective has been evaluated \"\n",
      "/home/local/AP-TEAM/ostroukhov/.pyenv/versions/habr/lib/python3.6/site-packages/skopt/optimizer/optimizer.py:449: UserWarning: The objective has been evaluated at this point before.\n",
      "  warnings.warn(\"The objective has been evaluated \"\n",
      "/home/local/AP-TEAM/ostroukhov/.pyenv/versions/habr/lib/python3.6/site-packages/skopt/optimizer/optimizer.py:449: UserWarning: The objective has been evaluated at this point before.\n",
      "  warnings.warn(\"The objective has been evaluated \"\n",
      "/home/local/AP-TEAM/ostroukhov/.pyenv/versions/habr/lib/python3.6/site-packages/skopt/optimizer/optimizer.py:449: UserWarning: The objective has been evaluated at this point before.\n",
      "  warnings.warn(\"The objective has been evaluated \"\n",
      "/home/local/AP-TEAM/ostroukhov/.pyenv/versions/habr/lib/python3.6/site-packages/skopt/optimizer/optimizer.py:449: UserWarning: The objective has been evaluated at this point before.\n",
      "  warnings.warn(\"The objective has been evaluated \"\n",
      "/home/local/AP-TEAM/ostroukhov/.pyenv/versions/habr/lib/python3.6/site-packages/skopt/optimizer/optimizer.py:449: UserWarning: The objective has been evaluated at this point before.\n",
      "  warnings.warn(\"The objective has been evaluated \"\n",
      "/home/local/AP-TEAM/ostroukhov/.pyenv/versions/habr/lib/python3.6/site-packages/skopt/optimizer/optimizer.py:449: UserWarning: The objective has been evaluated at this point before.\n",
      "  warnings.warn(\"The objective has been evaluated \"\n",
      "/home/local/AP-TEAM/ostroukhov/.pyenv/versions/habr/lib/python3.6/site-packages/skopt/optimizer/optimizer.py:449: UserWarning: The objective has been evaluated at this point before.\n",
      "  warnings.warn(\"The objective has been evaluated \"\n",
      "/home/local/AP-TEAM/ostroukhov/.pyenv/versions/habr/lib/python3.6/site-packages/skopt/optimizer/optimizer.py:449: UserWarning: The objective has been evaluated at this point before.\n",
      "  warnings.warn(\"The objective has been evaluated \"\n",
      "/home/local/AP-TEAM/ostroukhov/.pyenv/versions/habr/lib/python3.6/site-packages/skopt/optimizer/optimizer.py:449: UserWarning: The objective has been evaluated at this point before.\n",
      "  warnings.warn(\"The objective has been evaluated \"\n",
      "/home/local/AP-TEAM/ostroukhov/.pyenv/versions/habr/lib/python3.6/site-packages/skopt/optimizer/optimizer.py:449: UserWarning: The objective has been evaluated at this point before.\n",
      "  warnings.warn(\"The objective has been evaluated \"\n",
      "/home/local/AP-TEAM/ostroukhov/.pyenv/versions/habr/lib/python3.6/site-packages/skopt/optimizer/optimizer.py:449: UserWarning: The objective has been evaluated at this point before.\n",
      "  warnings.warn(\"The objective has been evaluated \"\n",
      "/home/local/AP-TEAM/ostroukhov/.pyenv/versions/habr/lib/python3.6/site-packages/skopt/optimizer/optimizer.py:449: UserWarning: The objective has been evaluated at this point before.\n",
      "  warnings.warn(\"The objective has been evaluated \"\n",
      "/home/local/AP-TEAM/ostroukhov/.pyenv/versions/habr/lib/python3.6/site-packages/skopt/optimizer/optimizer.py:449: UserWarning: The objective has been evaluated at this point before.\n",
      "  warnings.warn(\"The objective has been evaluated \"\n",
      "/home/local/AP-TEAM/ostroukhov/.pyenv/versions/habr/lib/python3.6/site-packages/skopt/optimizer/optimizer.py:449: UserWarning: The objective has been evaluated at this point before.\n",
      "  warnings.warn(\"The objective has been evaluated \"\n",
      "/home/local/AP-TEAM/ostroukhov/.pyenv/versions/habr/lib/python3.6/site-packages/skopt/optimizer/optimizer.py:449: UserWarning: The objective has been evaluated at this point before.\n",
      "  warnings.warn(\"The objective has been evaluated \"\n",
      "/home/local/AP-TEAM/ostroukhov/.pyenv/versions/habr/lib/python3.6/site-packages/skopt/optimizer/optimizer.py:449: UserWarning: The objective has been evaluated at this point before.\n",
      "  warnings.warn(\"The objective has been evaluated \"\n",
      "/home/local/AP-TEAM/ostroukhov/.pyenv/versions/habr/lib/python3.6/site-packages/skopt/optimizer/optimizer.py:449: UserWarning: The objective has been evaluated at this point before.\n",
      "  warnings.warn(\"The objective has been evaluated \"\n",
      "/home/local/AP-TEAM/ostroukhov/.pyenv/versions/habr/lib/python3.6/site-packages/skopt/optimizer/optimizer.py:449: UserWarning: The objective has been evaluated at this point before.\n",
      "  warnings.warn(\"The objective has been evaluated \"\n",
      "/home/local/AP-TEAM/ostroukhov/.pyenv/versions/habr/lib/python3.6/site-packages/skopt/optimizer/optimizer.py:449: UserWarning: The objective has been evaluated at this point before.\n",
      "  warnings.warn(\"The objective has been evaluated \"\n",
      "/home/local/AP-TEAM/ostroukhov/.pyenv/versions/habr/lib/python3.6/site-packages/skopt/optimizer/optimizer.py:449: UserWarning: The objective has been evaluated at this point before.\n",
      "  warnings.warn(\"The objective has been evaluated \"\n",
      "/home/local/AP-TEAM/ostroukhov/.pyenv/versions/habr/lib/python3.6/site-packages/skopt/optimizer/optimizer.py:449: UserWarning: The objective has been evaluated at this point before.\n",
      "  warnings.warn(\"The objective has been evaluated \"\n",
      "/home/local/AP-TEAM/ostroukhov/.pyenv/versions/habr/lib/python3.6/site-packages/skopt/optimizer/optimizer.py:449: UserWarning: The objective has been evaluated at this point before.\n",
      "  warnings.warn(\"The objective has been evaluated \"\n",
      "/home/local/AP-TEAM/ostroukhov/.pyenv/versions/habr/lib/python3.6/site-packages/skopt/optimizer/optimizer.py:449: UserWarning: The objective has been evaluated at this point before.\n",
      "  warnings.warn(\"The objective has been evaluated \"\n",
      "/home/local/AP-TEAM/ostroukhov/.pyenv/versions/habr/lib/python3.6/site-packages/skopt/optimizer/optimizer.py:449: UserWarning: The objective has been evaluated at this point before.\n",
      "  warnings.warn(\"The objective has been evaluated \"\n",
      "/home/local/AP-TEAM/ostroukhov/.pyenv/versions/habr/lib/python3.6/site-packages/skopt/optimizer/optimizer.py:449: UserWarning: The objective has been evaluated at this point before.\n",
      "  warnings.warn(\"The objective has been evaluated \"\n",
      "/home/local/AP-TEAM/ostroukhov/.pyenv/versions/habr/lib/python3.6/site-packages/skopt/optimizer/optimizer.py:449: UserWarning: The objective has been evaluated at this point before.\n",
      "  warnings.warn(\"The objective has been evaluated \"\n",
      "/home/local/AP-TEAM/ostroukhov/.pyenv/versions/habr/lib/python3.6/site-packages/skopt/optimizer/optimizer.py:449: UserWarning: The objective has been evaluated at this point before.\n",
      "  warnings.warn(\"The objective has been evaluated \"\n",
      "/home/local/AP-TEAM/ostroukhov/.pyenv/versions/habr/lib/python3.6/site-packages/skopt/optimizer/optimizer.py:449: UserWarning: The objective has been evaluated at this point before.\n",
      "  warnings.warn(\"The objective has been evaluated \"\n",
      "/home/local/AP-TEAM/ostroukhov/.pyenv/versions/habr/lib/python3.6/site-packages/skopt/optimizer/optimizer.py:449: UserWarning: The objective has been evaluated at this point before.\n",
      "  warnings.warn(\"The objective has been evaluated \"\n",
      "/home/local/AP-TEAM/ostroukhov/.pyenv/versions/habr/lib/python3.6/site-packages/skopt/optimizer/optimizer.py:449: UserWarning: The objective has been evaluated at this point before.\n",
      "  warnings.warn(\"The objective has been evaluated \"\n",
      "/home/local/AP-TEAM/ostroukhov/.pyenv/versions/habr/lib/python3.6/site-packages/skopt/optimizer/optimizer.py:449: UserWarning: The objective has been evaluated at this point before.\n",
      "  warnings.warn(\"The objective has been evaluated \"\n",
      "/home/local/AP-TEAM/ostroukhov/.pyenv/versions/habr/lib/python3.6/site-packages/skopt/optimizer/optimizer.py:449: UserWarning: The objective has been evaluated at this point before.\n",
      "  warnings.warn(\"The objective has been evaluated \"\n",
      "/home/local/AP-TEAM/ostroukhov/.pyenv/versions/habr/lib/python3.6/site-packages/skopt/optimizer/optimizer.py:449: UserWarning: The objective has been evaluated at this point before.\n",
      "  warnings.warn(\"The objective has been evaluated \"\n"
     ]
    },
    {
     "name": "stdout",
     "output_type": "stream",
     "text": [
      "Best params: [64, 2, 0.5, True, 256, 0.01]\n",
      "Best loss: 0.6882877457141876\n",
      "Best acc: 0.904\n",
      "Best acc: 0.90056\n",
      "Total time: 74042.55332612991\n",
      "Number of iterations: 96\n"
     ]
    }
   ],
   "source": [
    "skopt_optimizer = SkoptOptimizer(96)\n",
    "skopt_optimizer.optimize('checkpoints', params_grid, i_epoch=20)\n",
    "print(f'Best params: {skopt_optimizer.best_params}')\n",
    "print(f'Best loss: {skopt_optimizer.best_loss}')\n",
    "print(f'Best acc: {skopt_optimizer.best_accuracy}')\n",
    "print(f'Best acc: {skopt_optimizer.test_accuracy}')\n",
    "print(f'Total time: {skopt_optimizer.total_time}')\n",
    "print(f'Number of iterations: {len(skopt_optimizer)}')"
   ]
  },
  {
   "cell_type": "markdown",
   "metadata": {},
   "source": [
    "## Optuna"
   ]
  },
  {
   "cell_type": "code",
   "execution_count": 8,
   "metadata": {
    "scrolled": true
   },
   "outputs": [
    {
     "name": "stderr",
     "output_type": "stream",
     "text": [
      "\u001b[32m[I 2020-10-21 18:29:15,969]\u001b[0m A new study created in memory with name: no-name-8a428e20-1765-47f3-b004-9214073fcbe4\u001b[0m\n",
      "/home/local/AP-TEAM/ostroukhov/.pyenv/versions/habr/lib/python3.6/site-packages/optuna/progress_bar.py:47: ExperimentalWarning: Progress bar is experimental (supported from v1.2.0). The interface can change in the future.\n",
      "  self._init_valid()\n"
     ]
    },
    {
     "data": {
      "application/vnd.jupyter.widget-view+json": {
       "model_id": "090f86efdfa44ae885f59cc113ea8ea7",
       "version_major": 2,
       "version_minor": 0
      },
      "text/plain": [
       "HBox(children=(HTML(value=''), FloatProgress(value=0.0, max=96.0), HTML(value='')))"
      ]
     },
     "metadata": {},
     "output_type": "display_data"
    },
    {
     "name": "stdout",
     "output_type": "stream",
     "text": [
      "\u001b[32m[I 2020-10-21 18:29:15,990]\u001b[0m Trial 0 finished with value: 0.50256 and parameters: {'hidden_size': 128, 'num_layers': 2, 'dropout': 0.5, 'bidirectional': False, 'batch_size': 256, 'lr': 0.1}. Best is trial 0 with value: 0.50256.\u001b[0m\n",
      "\u001b[32m[I 2020-10-21 18:29:15,992]\u001b[0m Trial 1 finished with value: 0.0 and parameters: {'hidden_size': 512, 'num_layers': 1, 'dropout': 0.5, 'bidirectional': False, 'batch_size': 64, 'lr': 0.1}. Best is trial 0 with value: 0.50256.\u001b[0m\n",
      "\u001b[32m[I 2020-10-21 18:29:15,994]\u001b[0m Trial 2 finished with value: 0.83808 and parameters: {'hidden_size': 64, 'num_layers': 1, 'dropout': 0.5, 'bidirectional': True, 'batch_size': 256, 'lr': 0.1}. Best is trial 2 with value: 0.83808.\u001b[0m\n",
      "\u001b[32m[I 2020-10-21 18:29:15,997]\u001b[0m Trial 3 finished with value: 0.88816 and parameters: {'hidden_size': 512, 'num_layers': 2, 'dropout': 0.5, 'bidirectional': False, 'batch_size': 64, 'lr': 0.001}. Best is trial 3 with value: 0.88816.\u001b[0m\n",
      "\u001b[32m[I 2020-10-21 18:29:15,999]\u001b[0m Trial 4 finished with value: 0.89408 and parameters: {'hidden_size': 128, 'num_layers': 2, 'dropout': 0.5, 'bidirectional': False, 'batch_size': 64, 'lr': 0.01}. Best is trial 4 with value: 0.89408.\u001b[0m\n",
      "\u001b[32m[I 2020-10-21 18:29:16,002]\u001b[0m Trial 5 finished with value: 0.85216 and parameters: {'hidden_size': 512, 'num_layers': 2, 'dropout': 0.5, 'bidirectional': True, 'batch_size': 256, 'lr': 0.01}. Best is trial 4 with value: 0.89408.\u001b[0m\n",
      "\u001b[32m[I 2020-10-21 18:29:16,005]\u001b[0m Trial 6 finished with value: 0.89248 and parameters: {'hidden_size': 128, 'num_layers': 2, 'dropout': 0.5, 'bidirectional': True, 'batch_size': 64, 'lr': 0.001}. Best is trial 4 with value: 0.89408.\u001b[0m\n",
      "\u001b[32m[I 2020-10-21 18:29:16,007]\u001b[0m Trial 7 finished with value: 0.8808 and parameters: {'hidden_size': 128, 'num_layers': 1, 'dropout': 0.5, 'bidirectional': True, 'batch_size': 64, 'lr': 0.001}. Best is trial 4 with value: 0.89408.\u001b[0m\n",
      "\u001b[32m[I 2020-10-21 18:29:16,010]\u001b[0m Trial 8 finished with value: 0.90576 and parameters: {'hidden_size': 256, 'num_layers': 2, 'dropout': 0.5, 'bidirectional': True, 'batch_size': 256, 'lr': 0.01}. Best is trial 8 with value: 0.90576.\u001b[0m\n",
      "\u001b[32m[I 2020-10-21 18:29:16,013]\u001b[0m Trial 9 finished with value: 0.87744 and parameters: {'hidden_size': 64, 'num_layers': 1, 'dropout': 0.5, 'bidirectional': True, 'batch_size': 256, 'lr': 0.001}. Best is trial 8 with value: 0.90576.\u001b[0m\n",
      "\u001b[32m[I 2020-10-21 18:29:16,016]\u001b[0m Trial 10 finished with value: 0.90576 and parameters: {'hidden_size': 256, 'num_layers': 2, 'dropout': 0.5, 'bidirectional': True, 'batch_size': 256, 'lr': 0.01}. Best is trial 8 with value: 0.90576.\u001b[0m\n",
      "\u001b[32m[I 2020-10-21 18:29:16,020]\u001b[0m Trial 11 finished with value: 0.90576 and parameters: {'hidden_size': 256, 'num_layers': 2, 'dropout': 0.5, 'bidirectional': True, 'batch_size': 256, 'lr': 0.01}. Best is trial 8 with value: 0.90576.\u001b[0m\n",
      "\u001b[32m[I 2020-10-21 18:29:16,024]\u001b[0m Trial 12 finished with value: 0.90576 and parameters: {'hidden_size': 256, 'num_layers': 2, 'dropout': 0.5, 'bidirectional': True, 'batch_size': 256, 'lr': 0.01}. Best is trial 8 with value: 0.90576.\u001b[0m\n",
      "\u001b[32m[I 2020-10-21 18:29:16,027]\u001b[0m Trial 13 finished with value: 0.90576 and parameters: {'hidden_size': 256, 'num_layers': 2, 'dropout': 0.5, 'bidirectional': True, 'batch_size': 256, 'lr': 0.01}. Best is trial 8 with value: 0.90576.\u001b[0m\n",
      "\u001b[32m[I 2020-10-21 18:29:16,031]\u001b[0m Trial 14 finished with value: 0.90576 and parameters: {'hidden_size': 256, 'num_layers': 2, 'dropout': 0.5, 'bidirectional': True, 'batch_size': 256, 'lr': 0.01}. Best is trial 8 with value: 0.90576.\u001b[0m\n",
      "\u001b[32m[I 2020-10-21 18:29:16,034]\u001b[0m Trial 15 finished with value: 0.90576 and parameters: {'hidden_size': 256, 'num_layers': 2, 'dropout': 0.5, 'bidirectional': True, 'batch_size': 256, 'lr': 0.01}. Best is trial 8 with value: 0.90576.\u001b[0m\n",
      "\u001b[32m[I 2020-10-21 18:29:16,038]\u001b[0m Trial 16 finished with value: 0.90576 and parameters: {'hidden_size': 256, 'num_layers': 2, 'dropout': 0.5, 'bidirectional': True, 'batch_size': 256, 'lr': 0.01}. Best is trial 8 with value: 0.90576.\u001b[0m\n",
      "\u001b[32m[I 2020-10-21 18:29:16,042]\u001b[0m Trial 17 finished with value: 0.90576 and parameters: {'hidden_size': 256, 'num_layers': 2, 'dropout': 0.5, 'bidirectional': True, 'batch_size': 256, 'lr': 0.01}. Best is trial 8 with value: 0.90576.\u001b[0m\n",
      "\u001b[32m[I 2020-10-21 18:29:16,045]\u001b[0m Trial 18 finished with value: 0.90576 and parameters: {'hidden_size': 256, 'num_layers': 2, 'dropout': 0.5, 'bidirectional': True, 'batch_size': 256, 'lr': 0.01}. Best is trial 8 with value: 0.90576.\u001b[0m\n",
      "\u001b[32m[I 2020-10-21 18:29:16,049]\u001b[0m Trial 19 finished with value: 0.904 and parameters: {'hidden_size': 64, 'num_layers': 2, 'dropout': 0.5, 'bidirectional': True, 'batch_size': 256, 'lr': 0.01}. Best is trial 8 with value: 0.90576.\u001b[0m\n",
      "\u001b[32m[I 2020-10-21 18:29:16,053]\u001b[0m Trial 20 finished with value: 0.50256 and parameters: {'hidden_size': 256, 'num_layers': 2, 'dropout': 0.5, 'bidirectional': False, 'batch_size': 256, 'lr': 0.1}. Best is trial 8 with value: 0.90576.\u001b[0m\n",
      "\u001b[32m[I 2020-10-21 18:29:16,057]\u001b[0m Trial 21 finished with value: 0.90576 and parameters: {'hidden_size': 256, 'num_layers': 2, 'dropout': 0.5, 'bidirectional': True, 'batch_size': 256, 'lr': 0.01}. Best is trial 8 with value: 0.90576.\u001b[0m\n",
      "\u001b[32m[I 2020-10-21 18:29:16,060]\u001b[0m Trial 22 finished with value: 0.90576 and parameters: {'hidden_size': 256, 'num_layers': 2, 'dropout': 0.5, 'bidirectional': True, 'batch_size': 256, 'lr': 0.01}. Best is trial 8 with value: 0.90576.\u001b[0m\n",
      "\u001b[32m[I 2020-10-21 18:29:16,064]\u001b[0m Trial 23 finished with value: 0.90576 and parameters: {'hidden_size': 256, 'num_layers': 2, 'dropout': 0.5, 'bidirectional': True, 'batch_size': 256, 'lr': 0.01}. Best is trial 8 with value: 0.90576.\u001b[0m\n",
      "\u001b[32m[I 2020-10-21 18:29:16,068]\u001b[0m Trial 24 finished with value: 0.90576 and parameters: {'hidden_size': 256, 'num_layers': 2, 'dropout': 0.5, 'bidirectional': True, 'batch_size': 256, 'lr': 0.01}. Best is trial 8 with value: 0.90576.\u001b[0m\n",
      "\u001b[32m[I 2020-10-21 18:29:16,071]\u001b[0m Trial 25 finished with value: 0.90576 and parameters: {'hidden_size': 256, 'num_layers': 2, 'dropout': 0.5, 'bidirectional': True, 'batch_size': 256, 'lr': 0.01}. Best is trial 8 with value: 0.90576.\u001b[0m\n",
      "\u001b[32m[I 2020-10-21 18:29:16,076]\u001b[0m Trial 26 finished with value: 0.90576 and parameters: {'hidden_size': 256, 'num_layers': 2, 'dropout': 0.5, 'bidirectional': True, 'batch_size': 256, 'lr': 0.01}. Best is trial 8 with value: 0.90576.\u001b[0m\n",
      "\u001b[32m[I 2020-10-21 18:29:16,079]\u001b[0m Trial 27 finished with value: 0.87648 and parameters: {'hidden_size': 256, 'num_layers': 1, 'dropout': 0.5, 'bidirectional': True, 'batch_size': 256, 'lr': 0.01}. Best is trial 8 with value: 0.90576.\u001b[0m\n",
      "\u001b[32m[I 2020-10-21 18:29:16,082]\u001b[0m Trial 28 finished with value: 0.90576 and parameters: {'hidden_size': 256, 'num_layers': 2, 'dropout': 0.5, 'bidirectional': True, 'batch_size': 256, 'lr': 0.01}. Best is trial 8 with value: 0.90576.\u001b[0m\n",
      "\u001b[32m[I 2020-10-21 18:29:16,086]\u001b[0m Trial 29 finished with value: 0.87984 and parameters: {'hidden_size': 64, 'num_layers': 2, 'dropout': 0.5, 'bidirectional': False, 'batch_size': 256, 'lr': 0.1}. Best is trial 8 with value: 0.90576.\u001b[0m\n",
      "\u001b[32m[I 2020-10-21 18:29:16,090]\u001b[0m Trial 30 finished with value: 0.85216 and parameters: {'hidden_size': 512, 'num_layers': 2, 'dropout': 0.5, 'bidirectional': True, 'batch_size': 256, 'lr': 0.01}. Best is trial 8 with value: 0.90576.\u001b[0m\n",
      "\u001b[32m[I 2020-10-21 18:29:16,093]\u001b[0m Trial 31 finished with value: 0.90576 and parameters: {'hidden_size': 256, 'num_layers': 2, 'dropout': 0.5, 'bidirectional': True, 'batch_size': 256, 'lr': 0.01}. Best is trial 8 with value: 0.90576.\u001b[0m\n",
      "\u001b[32m[I 2020-10-21 18:29:16,097]\u001b[0m Trial 32 finished with value: 0.90576 and parameters: {'hidden_size': 256, 'num_layers': 2, 'dropout': 0.5, 'bidirectional': True, 'batch_size': 256, 'lr': 0.01}. Best is trial 8 with value: 0.90576.\u001b[0m\n",
      "\u001b[32m[I 2020-10-21 18:29:16,101]\u001b[0m Trial 33 finished with value: 0.50256 and parameters: {'hidden_size': 256, 'num_layers': 2, 'dropout': 0.5, 'bidirectional': True, 'batch_size': 256, 'lr': 0.1}. Best is trial 8 with value: 0.90576.\u001b[0m\n",
      "\u001b[32m[I 2020-10-21 18:29:16,104]\u001b[0m Trial 34 finished with value: 0.87648 and parameters: {'hidden_size': 256, 'num_layers': 1, 'dropout': 0.5, 'bidirectional': True, 'batch_size': 256, 'lr': 0.01}. Best is trial 8 with value: 0.90576.\u001b[0m\n",
      "\u001b[32m[I 2020-10-21 18:29:16,108]\u001b[0m Trial 35 finished with value: 0.0 and parameters: {'hidden_size': 512, 'num_layers': 2, 'dropout': 0.5, 'bidirectional': False, 'batch_size': 64, 'lr': 0.01}. Best is trial 8 with value: 0.90576.\u001b[0m\n",
      "\u001b[32m[I 2020-10-21 18:29:16,112]\u001b[0m Trial 36 finished with value: 0.88288 and parameters: {'hidden_size': 128, 'num_layers': 2, 'dropout': 0.5, 'bidirectional': True, 'batch_size': 256, 'lr': 0.01}. Best is trial 8 with value: 0.90576.\u001b[0m\n",
      "\u001b[32m[I 2020-10-21 18:29:16,116]\u001b[0m Trial 37 finished with value: 0.89584 and parameters: {'hidden_size': 256, 'num_layers': 2, 'dropout': 0.5, 'bidirectional': True, 'batch_size': 64, 'lr': 0.001}. Best is trial 8 with value: 0.90576.\u001b[0m\n",
      "\u001b[32m[I 2020-10-21 18:29:16,119]\u001b[0m Trial 38 finished with value: 0.50256 and parameters: {'hidden_size': 128, 'num_layers': 2, 'dropout': 0.5, 'bidirectional': False, 'batch_size': 256, 'lr': 0.1}. Best is trial 8 with value: 0.90576.\u001b[0m\n",
      "\u001b[32m[I 2020-10-21 18:29:16,123]\u001b[0m Trial 39 finished with value: 0.69952 and parameters: {'hidden_size': 512, 'num_layers': 1, 'dropout': 0.5, 'bidirectional': True, 'batch_size': 256, 'lr': 0.01}. Best is trial 8 with value: 0.90576.\u001b[0m\n",
      "\u001b[32m[I 2020-10-21 18:29:16,127]\u001b[0m Trial 40 finished with value: 0.89776 and parameters: {'hidden_size': 64, 'num_layers': 2, 'dropout': 0.5, 'bidirectional': True, 'batch_size': 64, 'lr': 0.001}. Best is trial 8 with value: 0.90576.\u001b[0m\n",
      "\u001b[32m[I 2020-10-21 18:29:16,131]\u001b[0m Trial 41 finished with value: 0.90576 and parameters: {'hidden_size': 256, 'num_layers': 2, 'dropout': 0.5, 'bidirectional': True, 'batch_size': 256, 'lr': 0.01}. Best is trial 8 with value: 0.90576.\u001b[0m\n",
      "\u001b[32m[I 2020-10-21 18:29:16,135]\u001b[0m Trial 42 finished with value: 0.90576 and parameters: {'hidden_size': 256, 'num_layers': 2, 'dropout': 0.5, 'bidirectional': True, 'batch_size': 256, 'lr': 0.01}. Best is trial 8 with value: 0.90576.\u001b[0m\n",
      "\u001b[32m[I 2020-10-21 18:29:16,139]\u001b[0m Trial 43 finished with value: 0.90576 and parameters: {'hidden_size': 256, 'num_layers': 2, 'dropout': 0.5, 'bidirectional': True, 'batch_size': 256, 'lr': 0.01}. Best is trial 8 with value: 0.90576.\u001b[0m\n",
      "\u001b[32m[I 2020-10-21 18:29:16,142]\u001b[0m Trial 44 finished with value: 0.90576 and parameters: {'hidden_size': 256, 'num_layers': 2, 'dropout': 0.5, 'bidirectional': True, 'batch_size': 256, 'lr': 0.01}. Best is trial 8 with value: 0.90576.\u001b[0m\n",
      "\u001b[32m[I 2020-10-21 18:29:16,146]\u001b[0m Trial 45 finished with value: 0.90576 and parameters: {'hidden_size': 256, 'num_layers': 2, 'dropout': 0.5, 'bidirectional': True, 'batch_size': 256, 'lr': 0.01}. Best is trial 8 with value: 0.90576.\u001b[0m\n",
      "\u001b[32m[I 2020-10-21 18:29:16,150]\u001b[0m Trial 46 finished with value: 0.90576 and parameters: {'hidden_size': 256, 'num_layers': 2, 'dropout': 0.5, 'bidirectional': True, 'batch_size': 256, 'lr': 0.01}. Best is trial 8 with value: 0.90576.\u001b[0m\n",
      "\u001b[32m[I 2020-10-21 18:29:16,154]\u001b[0m Trial 47 finished with value: 0.90576 and parameters: {'hidden_size': 256, 'num_layers': 2, 'dropout': 0.5, 'bidirectional': True, 'batch_size': 256, 'lr': 0.01}. Best is trial 8 with value: 0.90576.\u001b[0m\n",
      "\u001b[32m[I 2020-10-21 18:29:16,158]\u001b[0m Trial 48 finished with value: 0.88976 and parameters: {'hidden_size': 256, 'num_layers': 2, 'dropout': 0.5, 'bidirectional': True, 'batch_size': 256, 'lr': 0.001}. Best is trial 8 with value: 0.90576.\u001b[0m\n",
      "\u001b[32m[I 2020-10-21 18:29:16,162]\u001b[0m Trial 49 finished with value: 0.87936 and parameters: {'hidden_size': 128, 'num_layers': 1, 'dropout': 0.5, 'bidirectional': True, 'batch_size': 256, 'lr': 0.01}. Best is trial 8 with value: 0.90576.\u001b[0m\n",
      "\u001b[32m[I 2020-10-21 18:29:16,166]\u001b[0m Trial 50 finished with value: 0.8808 and parameters: {'hidden_size': 256, 'num_layers': 2, 'dropout': 0.5, 'bidirectional': True, 'batch_size': 64, 'lr': 0.01}. Best is trial 8 with value: 0.90576.\u001b[0m\n",
      "\u001b[32m[I 2020-10-21 18:29:16,170]\u001b[0m Trial 51 finished with value: 0.90576 and parameters: {'hidden_size': 256, 'num_layers': 2, 'dropout': 0.5, 'bidirectional': True, 'batch_size': 256, 'lr': 0.01}. Best is trial 8 with value: 0.90576.\u001b[0m\n",
      "\u001b[32m[I 2020-10-21 18:29:16,174]\u001b[0m Trial 52 finished with value: 0.90576 and parameters: {'hidden_size': 256, 'num_layers': 2, 'dropout': 0.5, 'bidirectional': True, 'batch_size': 256, 'lr': 0.01}. Best is trial 8 with value: 0.90576.\u001b[0m\n",
      "\u001b[32m[I 2020-10-21 18:29:16,179]\u001b[0m Trial 53 finished with value: 0.90576 and parameters: {'hidden_size': 256, 'num_layers': 2, 'dropout': 0.5, 'bidirectional': True, 'batch_size': 256, 'lr': 0.01}. Best is trial 8 with value: 0.90576.\u001b[0m\n",
      "\u001b[32m[I 2020-10-21 18:29:16,182]\u001b[0m Trial 54 finished with value: 0.90576 and parameters: {'hidden_size': 256, 'num_layers': 2, 'dropout': 0.5, 'bidirectional': True, 'batch_size': 256, 'lr': 0.01}. Best is trial 8 with value: 0.90576.\u001b[0m\n",
      "\u001b[32m[I 2020-10-21 18:29:16,186]\u001b[0m Trial 55 finished with value: 0.90576 and parameters: {'hidden_size': 256, 'num_layers': 2, 'dropout': 0.5, 'bidirectional': True, 'batch_size': 256, 'lr': 0.01}. Best is trial 8 with value: 0.90576.\u001b[0m\n",
      "\u001b[32m[I 2020-10-21 18:29:16,190]\u001b[0m Trial 56 finished with value: 0.90576 and parameters: {'hidden_size': 256, 'num_layers': 2, 'dropout': 0.5, 'bidirectional': True, 'batch_size': 256, 'lr': 0.01}. Best is trial 8 with value: 0.90576.\u001b[0m\n",
      "\u001b[32m[I 2020-10-21 18:29:16,195]\u001b[0m Trial 57 finished with value: 0.90576 and parameters: {'hidden_size': 256, 'num_layers': 2, 'dropout': 0.5, 'bidirectional': True, 'batch_size': 256, 'lr': 0.01}. Best is trial 8 with value: 0.90576.\u001b[0m\n",
      "\u001b[32m[I 2020-10-21 18:29:16,199]\u001b[0m Trial 58 finished with value: 0.904 and parameters: {'hidden_size': 64, 'num_layers': 2, 'dropout': 0.5, 'bidirectional': True, 'batch_size': 256, 'lr': 0.01}. Best is trial 8 with value: 0.90576.\u001b[0m\n",
      "\u001b[32m[I 2020-10-21 18:29:16,203]\u001b[0m Trial 59 finished with value: 0.512 and parameters: {'hidden_size': 256, 'num_layers': 2, 'dropout': 0.5, 'bidirectional': False, 'batch_size': 256, 'lr': 0.01}. Best is trial 8 with value: 0.90576.\u001b[0m\n",
      "\u001b[32m[I 2020-10-21 18:29:16,207]\u001b[0m Trial 60 finished with value: 0.85216 and parameters: {'hidden_size': 512, 'num_layers': 2, 'dropout': 0.5, 'bidirectional': True, 'batch_size': 256, 'lr': 0.01}. Best is trial 8 with value: 0.90576.\u001b[0m\n",
      "\u001b[32m[I 2020-10-21 18:29:16,211]\u001b[0m Trial 61 finished with value: 0.90576 and parameters: {'hidden_size': 256, 'num_layers': 2, 'dropout': 0.5, 'bidirectional': True, 'batch_size': 256, 'lr': 0.01}. Best is trial 8 with value: 0.90576.\u001b[0m\n",
      "\u001b[32m[I 2020-10-21 18:29:16,215]\u001b[0m Trial 62 finished with value: 0.90576 and parameters: {'hidden_size': 256, 'num_layers': 2, 'dropout': 0.5, 'bidirectional': True, 'batch_size': 256, 'lr': 0.01}. Best is trial 8 with value: 0.90576.\u001b[0m\n",
      "\u001b[32m[I 2020-10-21 18:29:16,219]\u001b[0m Trial 63 finished with value: 0.90576 and parameters: {'hidden_size': 256, 'num_layers': 2, 'dropout': 0.5, 'bidirectional': True, 'batch_size': 256, 'lr': 0.01}. Best is trial 8 with value: 0.90576.\u001b[0m\n",
      "\u001b[32m[I 2020-10-21 18:29:16,223]\u001b[0m Trial 64 finished with value: 0.90576 and parameters: {'hidden_size': 256, 'num_layers': 2, 'dropout': 0.5, 'bidirectional': True, 'batch_size': 256, 'lr': 0.01}. Best is trial 8 with value: 0.90576.\u001b[0m\n",
      "\u001b[32m[I 2020-10-21 18:29:16,227]\u001b[0m Trial 65 finished with value: 0.90576 and parameters: {'hidden_size': 256, 'num_layers': 2, 'dropout': 0.5, 'bidirectional': True, 'batch_size': 256, 'lr': 0.01}. Best is trial 8 with value: 0.90576.\u001b[0m\n",
      "\u001b[32m[I 2020-10-21 18:29:16,232]\u001b[0m Trial 66 finished with value: 0.50256 and parameters: {'hidden_size': 256, 'num_layers': 2, 'dropout': 0.5, 'bidirectional': True, 'batch_size': 256, 'lr': 0.1}. Best is trial 8 with value: 0.90576.\u001b[0m\n",
      "\u001b[32m[I 2020-10-21 18:29:16,236]\u001b[0m Trial 67 finished with value: 0.90576 and parameters: {'hidden_size': 256, 'num_layers': 2, 'dropout': 0.5, 'bidirectional': True, 'batch_size': 256, 'lr': 0.01}. Best is trial 8 with value: 0.90576.\u001b[0m\n",
      "\u001b[32m[I 2020-10-21 18:29:16,240]\u001b[0m Trial 68 finished with value: 0.90576 and parameters: {'hidden_size': 256, 'num_layers': 2, 'dropout': 0.5, 'bidirectional': True, 'batch_size': 256, 'lr': 0.01}. Best is trial 8 with value: 0.90576.\u001b[0m\n",
      "\u001b[32m[I 2020-10-21 18:29:16,244]\u001b[0m Trial 69 finished with value: 0.90576 and parameters: {'hidden_size': 256, 'num_layers': 2, 'dropout': 0.5, 'bidirectional': True, 'batch_size': 256, 'lr': 0.01}. Best is trial 8 with value: 0.90576.\u001b[0m\n",
      "\u001b[32m[I 2020-10-21 18:29:16,248]\u001b[0m Trial 70 finished with value: 0.87168 and parameters: {'hidden_size': 128, 'num_layers': 1, 'dropout': 0.5, 'bidirectional': True, 'batch_size': 256, 'lr': 0.001}. Best is trial 8 with value: 0.90576.\u001b[0m\n",
      "\u001b[32m[I 2020-10-21 18:29:16,252]\u001b[0m Trial 71 finished with value: 0.90576 and parameters: {'hidden_size': 256, 'num_layers': 2, 'dropout': 0.5, 'bidirectional': True, 'batch_size': 256, 'lr': 0.01}. Best is trial 8 with value: 0.90576.\u001b[0m\n",
      "\u001b[32m[I 2020-10-21 18:29:16,257]\u001b[0m Trial 72 finished with value: 0.90576 and parameters: {'hidden_size': 256, 'num_layers': 2, 'dropout': 0.5, 'bidirectional': True, 'batch_size': 256, 'lr': 0.01}. Best is trial 8 with value: 0.90576.\u001b[0m\n",
      "\u001b[32m[I 2020-10-21 18:29:16,261]\u001b[0m Trial 73 finished with value: 0.90576 and parameters: {'hidden_size': 256, 'num_layers': 2, 'dropout': 0.5, 'bidirectional': True, 'batch_size': 256, 'lr': 0.01}. Best is trial 8 with value: 0.90576.\u001b[0m\n",
      "\u001b[32m[I 2020-10-21 18:29:16,265]\u001b[0m Trial 74 finished with value: 0.90576 and parameters: {'hidden_size': 256, 'num_layers': 2, 'dropout': 0.5, 'bidirectional': True, 'batch_size': 256, 'lr': 0.01}. Best is trial 8 with value: 0.90576.\u001b[0m\n",
      "\u001b[32m[I 2020-10-21 18:29:16,269]\u001b[0m Trial 75 finished with value: 0.90576 and parameters: {'hidden_size': 256, 'num_layers': 2, 'dropout': 0.5, 'bidirectional': True, 'batch_size': 256, 'lr': 0.01}. Best is trial 8 with value: 0.90576.\u001b[0m\n",
      "\u001b[32m[I 2020-10-21 18:29:16,274]\u001b[0m Trial 76 finished with value: 0.512 and parameters: {'hidden_size': 256, 'num_layers': 2, 'dropout': 0.5, 'bidirectional': False, 'batch_size': 256, 'lr': 0.01}. Best is trial 8 with value: 0.90576.\u001b[0m\n",
      "\u001b[32m[I 2020-10-21 18:29:16,278]\u001b[0m Trial 77 finished with value: 0.90576 and parameters: {'hidden_size': 256, 'num_layers': 2, 'dropout': 0.5, 'bidirectional': True, 'batch_size': 256, 'lr': 0.01}. Best is trial 8 with value: 0.90576.\u001b[0m\n",
      "\u001b[32m[I 2020-10-21 18:29:16,283]\u001b[0m Trial 78 finished with value: 0.90576 and parameters: {'hidden_size': 256, 'num_layers': 2, 'dropout': 0.5, 'bidirectional': True, 'batch_size': 256, 'lr': 0.01}. Best is trial 8 with value: 0.90576.\u001b[0m\n",
      "\u001b[32m[I 2020-10-21 18:29:16,287]\u001b[0m Trial 79 finished with value: 0.8808 and parameters: {'hidden_size': 256, 'num_layers': 2, 'dropout': 0.5, 'bidirectional': True, 'batch_size': 64, 'lr': 0.01}. Best is trial 8 with value: 0.90576.\u001b[0m\n",
      "\u001b[32m[I 2020-10-21 18:29:16,291]\u001b[0m Trial 80 finished with value: 0.58672 and parameters: {'hidden_size': 64, 'num_layers': 2, 'dropout': 0.5, 'bidirectional': True, 'batch_size': 256, 'lr': 0.1}. Best is trial 8 with value: 0.90576.\u001b[0m\n",
      "\u001b[32m[I 2020-10-21 18:29:16,295]\u001b[0m Trial 81 finished with value: 0.90576 and parameters: {'hidden_size': 256, 'num_layers': 2, 'dropout': 0.5, 'bidirectional': True, 'batch_size': 256, 'lr': 0.01}. Best is trial 8 with value: 0.90576.\u001b[0m\n",
      "\u001b[32m[I 2020-10-21 18:29:16,300]\u001b[0m Trial 82 finished with value: 0.90576 and parameters: {'hidden_size': 256, 'num_layers': 2, 'dropout': 0.5, 'bidirectional': True, 'batch_size': 256, 'lr': 0.01}. Best is trial 8 with value: 0.90576.\u001b[0m\n",
      "\u001b[32m[I 2020-10-21 18:29:16,304]\u001b[0m Trial 83 finished with value: 0.90576 and parameters: {'hidden_size': 256, 'num_layers': 2, 'dropout': 0.5, 'bidirectional': True, 'batch_size': 256, 'lr': 0.01}. Best is trial 8 with value: 0.90576.\u001b[0m\n",
      "\u001b[32m[I 2020-10-21 18:29:16,308]\u001b[0m Trial 84 finished with value: 0.90576 and parameters: {'hidden_size': 256, 'num_layers': 2, 'dropout': 0.5, 'bidirectional': True, 'batch_size': 256, 'lr': 0.01}. Best is trial 8 with value: 0.90576.\u001b[0m\n",
      "\u001b[32m[I 2020-10-21 18:29:16,313]\u001b[0m Trial 85 finished with value: 0.90576 and parameters: {'hidden_size': 256, 'num_layers': 2, 'dropout': 0.5, 'bidirectional': True, 'batch_size': 256, 'lr': 0.01}. Best is trial 8 with value: 0.90576.\u001b[0m\n",
      "\u001b[32m[I 2020-10-21 18:29:16,317]\u001b[0m Trial 86 finished with value: 0.90576 and parameters: {'hidden_size': 256, 'num_layers': 2, 'dropout': 0.5, 'bidirectional': True, 'batch_size': 256, 'lr': 0.01}. Best is trial 8 with value: 0.90576.\u001b[0m\n",
      "\u001b[32m[I 2020-10-21 18:29:16,321]\u001b[0m Trial 87 finished with value: 0.90576 and parameters: {'hidden_size': 256, 'num_layers': 2, 'dropout': 0.5, 'bidirectional': True, 'batch_size': 256, 'lr': 0.01}. Best is trial 8 with value: 0.90576.\u001b[0m\n",
      "\u001b[32m[I 2020-10-21 18:29:16,326]\u001b[0m Trial 88 finished with value: 0.85216 and parameters: {'hidden_size': 512, 'num_layers': 2, 'dropout': 0.5, 'bidirectional': True, 'batch_size': 256, 'lr': 0.01}. Best is trial 8 with value: 0.90576.\u001b[0m\n",
      "\u001b[32m[I 2020-10-21 18:29:16,330]\u001b[0m Trial 89 finished with value: 0.90576 and parameters: {'hidden_size': 256, 'num_layers': 2, 'dropout': 0.5, 'bidirectional': True, 'batch_size': 256, 'lr': 0.01}. Best is trial 8 with value: 0.90576.\u001b[0m\n",
      "\u001b[32m[I 2020-10-21 18:29:16,335]\u001b[0m Trial 90 finished with value: 0.90576 and parameters: {'hidden_size': 256, 'num_layers': 2, 'dropout': 0.5, 'bidirectional': True, 'batch_size': 256, 'lr': 0.01}. Best is trial 8 with value: 0.90576.\u001b[0m\n",
      "\u001b[32m[I 2020-10-21 18:29:16,339]\u001b[0m Trial 91 finished with value: 0.90576 and parameters: {'hidden_size': 256, 'num_layers': 2, 'dropout': 0.5, 'bidirectional': True, 'batch_size': 256, 'lr': 0.01}. Best is trial 8 with value: 0.90576.\u001b[0m\n",
      "\u001b[32m[I 2020-10-21 18:29:16,343]\u001b[0m Trial 92 finished with value: 0.90576 and parameters: {'hidden_size': 256, 'num_layers': 2, 'dropout': 0.5, 'bidirectional': True, 'batch_size': 256, 'lr': 0.01}. Best is trial 8 with value: 0.90576.\u001b[0m\n",
      "\u001b[32m[I 2020-10-21 18:29:16,348]\u001b[0m Trial 93 finished with value: 0.90576 and parameters: {'hidden_size': 256, 'num_layers': 2, 'dropout': 0.5, 'bidirectional': True, 'batch_size': 256, 'lr': 0.01}. Best is trial 8 with value: 0.90576.\u001b[0m\n",
      "\u001b[32m[I 2020-10-21 18:29:16,352]\u001b[0m Trial 94 finished with value: 0.90576 and parameters: {'hidden_size': 256, 'num_layers': 2, 'dropout': 0.5, 'bidirectional': True, 'batch_size': 256, 'lr': 0.01}. Best is trial 8 with value: 0.90576.\u001b[0m\n",
      "\u001b[32m[I 2020-10-21 18:29:16,357]\u001b[0m Trial 95 finished with value: 0.90576 and parameters: {'hidden_size': 256, 'num_layers': 2, 'dropout': 0.5, 'bidirectional': True, 'batch_size': 256, 'lr': 0.01}. Best is trial 8 with value: 0.90576.\u001b[0m\n",
      "\n",
      "Best params: [256, 2, 0.5, True, 256, 0.01]\n",
      "Best loss: 0.6289280581474305\n",
      "Best acc: 0.90576\n",
      "Test acc: 0.89716\n",
      "Total time: 40681.70958328247\n",
      "Number of iterations: 96\n"
     ]
    }
   ],
   "source": [
    "optuna_optimizer = OptunaOptimizer(96)\n",
    "optuna_optimizer.optimize('checkpoints', params_grid, i_epoch=20)\n",
    "print(f'Best params: {optuna_optimizer.best_params}')\n",
    "print(f'Best loss: {optuna_optimizer.best_loss}')\n",
    "print(f'Best acc: {optuna_optimizer.best_accuracy}')\n",
    "print(f'Test acc: {optuna_optimizer.test_accuracy}')\n",
    "print(f'Total time: {optuna_optimizer.total_time}')\n",
    "print(f'Number of iterations: {len(optuna_optimizer)}')"
   ]
  }
 ],
 "metadata": {
  "kernelspec": {
   "display_name": "Python 3.6.6 (habr)",
   "language": "python",
   "name": "habr"
  },
  "language_info": {
   "codemirror_mode": {
    "name": "ipython",
    "version": 3
   },
   "file_extension": ".py",
   "mimetype": "text/x-python",
   "name": "python",
   "nbconvert_exporter": "python",
   "pygments_lexer": "ipython3",
   "version": "3.6.6"
  }
 },
 "nbformat": 4,
 "nbformat_minor": 4
}
