{
 "cells": [
  {
   "cell_type": "markdown",
   "metadata": {},
   "source": [
    "## Imports"
   ]
  },
  {
   "cell_type": "code",
   "execution_count": 3,
   "metadata": {},
   "outputs": [
    {
     "name": "stdout",
     "output_type": "stream",
     "text": [
      "The autoreload extension is already loaded. To reload it, use:\n",
      "  %reload_ext autoreload\n"
     ]
    }
   ],
   "source": [
    "import numpy as np\n",
    "\n",
    "from src.lstm_model import LSTMModel\n",
    "from src.imdb_data_loader import IMDBDataLoader\n",
    "from src.load_data import prepare_data, load_vectors\n",
    "from src.train_test import train, test, eval_epoch\n",
    "from src.hyperparam_optimizers.grid_search import GridSearchOptimizer\n",
    "from src.hyperparam_optimizers.random_search import RandomSearchOptimizer\n",
    "from src.hyperparam_optimizers.hyperopt import HyperoptOptimizer\n",
    "from src.hyperparam_optimizers.skopt import SkoptOptimizer\n",
    "\n",
    "%load_ext autoreload\n",
    "%autoreload 2"
   ]
  },
  {
   "cell_type": "markdown",
   "metadata": {},
   "source": [
    "# Hyperparams"
   ]
  },
  {
   "cell_type": "code",
   "execution_count": 4,
   "metadata": {},
   "outputs": [],
   "source": [
    "params_grid = {\n",
    "    'hidden_size': [64, 128, 256, 512],\n",
    "    'num_layers': np.array([1, 2]),\n",
    "    'dropout': np.array([0.5]),\n",
    "    'bidirectional': np.array([True, False]),\n",
    "    'batch_size': np.array([64, 256]),\n",
    "    'lr': [1e-3, 1e-2, 1e-1]\n",
    "}"
   ]
  },
  {
   "cell_type": "markdown",
   "metadata": {},
   "source": [
    "## GridSearch"
   ]
  },
  {
   "cell_type": "code",
   "execution_count": 5,
   "metadata": {},
   "outputs": [
    {
     "name": "stderr",
     "output_type": "stream",
     "text": [
      "Grid search params: 100%|██████████| 96/96 [00:00<00:00, 5209.44it/s]"
     ]
    },
    {
     "name": "stdout",
     "output_type": "stream",
     "text": [
      "Best params: (512, 2, 0.5, True, 256, 0.001)\n",
      "Best loss: 0.2502022793098372\n",
      "Best acc: 0.90256\n",
      "Total time: 135576.44630527496\n",
      "Number of iterations: 96\n"
     ]
    },
    {
     "name": "stderr",
     "output_type": "stream",
     "text": [
      "\n"
     ]
    }
   ],
   "source": [
    "grid_search = GridSearchOptimizer()\n",
    "grid_search.optimize('checkpoints', params_grid, i_epoch=20)\n",
    "print(f'Best params: {grid_search.best_params}')\n",
    "print(f'Best loss: {grid_search.best_loss}')\n",
    "print(f'Best acc: {grid_search.best_accuracy}')\n",
    "print(f'Total time: {grid_search.total_time}')\n",
    "print(f'Number of iterations: {len(grid_search)}')"
   ]
  },
  {
   "cell_type": "markdown",
   "metadata": {},
   "source": [
    "## Random Search"
   ]
  },
  {
   "cell_type": "code",
   "execution_count": 6,
   "metadata": {},
   "outputs": [
    {
     "name": "stderr",
     "output_type": "stream",
     "text": [
      "Random search iters: 100%|██████████| 96/96 [00:00<00:00, 5097.13it/s]"
     ]
    },
    {
     "name": "stdout",
     "output_type": "stream",
     "text": [
      "Best params: (512, 2, 0.5, True, 256, 0.001)\n",
      "Best loss: 0.2502022793098372\n",
      "Best acc: 0.90256\n",
      "Total time: 82030.34368491173\n",
      "Number of iterations: 96\n"
     ]
    },
    {
     "name": "stderr",
     "output_type": "stream",
     "text": [
      "\n"
     ]
    }
   ],
   "source": [
    "random_search = RandomSearchOptimizer(96)\n",
    "random_search.optimize('checkpoints', params_grid, i_epoch=20)\n",
    "print(f'Best params: {random_search.best_params}')\n",
    "print(f'Best loss: {random_search.best_loss}')\n",
    "print(f'Best acc: {random_search.best_accuracy}')\n",
    "print(f'Total time: {random_search.total_time}')\n",
    "print(f'Number of iterations: {len(random_search)}')"
   ]
  },
  {
   "cell_type": "markdown",
   "metadata": {},
   "source": [
    "## Hyperopt"
   ]
  },
  {
   "cell_type": "markdown",
   "metadata": {},
   "source": [
    "Использование `hyperopt` подразумевает следующие шаги:\n",
    "- описание целевой функции для минимизации\n",
    "- пространство, по которому будет осуществляться поиск\n",
    "- база данных, в которой нужно хранить вычисления во всех точках поиска\n",
    "- используемый алгоритм\n",
    "\n",
    "Выбор поискового алгоритма осуществляется просто через параметр `algo=hyperopt.tpe.suggest`, `algo=hyperopt.random.suggest`\n",
    "\n",
    "Так как вычисления будут проводиться на GPU, нет смысла распараллеливать оптимизацию гиперпараметров: всё может обвалиться по памяти."
   ]
  },
  {
   "cell_type": "code",
   "execution_count": 7,
   "metadata": {},
   "outputs": [
    {
     "name": "stdout",
     "output_type": "stream",
     "text": [
      "100%|██████████| 96/96 [00:00<00:00, 150.57trial/s, best loss: 0.2502022793098372]\n",
      "Best params: [512, 2, 0.5, True, 256, 0.001]\n",
      "Best loss: 0.2502022793098372\n",
      "Best acc: 0.90256\n",
      "Total time: 57540.012427806854\n",
      "Number of iterations: 96\n"
     ]
    }
   ],
   "source": [
    "hyperopt_search = HyperoptOptimizer(96)\n",
    "hyperopt_search.optimize('checkpoints', params_grid, i_epoch=20)\n",
    "print(f'Best params: {hyperopt_search.best_params}')\n",
    "print(f'Best loss: {hyperopt_search.best_loss}')\n",
    "print(f'Best acc: {hyperopt_search.best_accuracy}')\n",
    "print(f'Total time: {hyperopt_search.total_time}')\n",
    "print(f'Number of iterations: {len(hyperopt_search)}')"
   ]
  },
  {
   "cell_type": "markdown",
   "metadata": {},
   "source": [
    "## Scikit-optimize"
   ]
  },
  {
   "cell_type": "code",
   "execution_count": 21,
   "metadata": {
    "scrolled": true
   },
   "outputs": [
    {
     "name": "stderr",
     "output_type": "stream",
     "text": [
      "/home/local/AP-TEAM/ostroukhov/.pyenv/versions/habr/lib/python3.6/site-packages/skopt/optimizer/optimizer.py:449: UserWarning: The objective has been evaluated at this point before.\n",
      "  warnings.warn(\"The objective has been evaluated \"\n",
      "/home/local/AP-TEAM/ostroukhov/.pyenv/versions/habr/lib/python3.6/site-packages/skopt/optimizer/optimizer.py:449: UserWarning: The objective has been evaluated at this point before.\n",
      "  warnings.warn(\"The objective has been evaluated \"\n",
      "/home/local/AP-TEAM/ostroukhov/.pyenv/versions/habr/lib/python3.6/site-packages/skopt/optimizer/optimizer.py:449: UserWarning: The objective has been evaluated at this point before.\n",
      "  warnings.warn(\"The objective has been evaluated \"\n",
      "/home/local/AP-TEAM/ostroukhov/.pyenv/versions/habr/lib/python3.6/site-packages/skopt/optimizer/optimizer.py:449: UserWarning: The objective has been evaluated at this point before.\n",
      "  warnings.warn(\"The objective has been evaluated \"\n",
      "/home/local/AP-TEAM/ostroukhov/.pyenv/versions/habr/lib/python3.6/site-packages/skopt/optimizer/optimizer.py:449: UserWarning: The objective has been evaluated at this point before.\n",
      "  warnings.warn(\"The objective has been evaluated \"\n",
      "/home/local/AP-TEAM/ostroukhov/.pyenv/versions/habr/lib/python3.6/site-packages/skopt/optimizer/optimizer.py:449: UserWarning: The objective has been evaluated at this point before.\n",
      "  warnings.warn(\"The objective has been evaluated \"\n",
      "/home/local/AP-TEAM/ostroukhov/.pyenv/versions/habr/lib/python3.6/site-packages/skopt/optimizer/optimizer.py:449: UserWarning: The objective has been evaluated at this point before.\n",
      "  warnings.warn(\"The objective has been evaluated \"\n",
      "/home/local/AP-TEAM/ostroukhov/.pyenv/versions/habr/lib/python3.6/site-packages/skopt/optimizer/optimizer.py:449: UserWarning: The objective has been evaluated at this point before.\n",
      "  warnings.warn(\"The objective has been evaluated \"\n",
      "/home/local/AP-TEAM/ostroukhov/.pyenv/versions/habr/lib/python3.6/site-packages/skopt/optimizer/optimizer.py:449: UserWarning: The objective has been evaluated at this point before.\n",
      "  warnings.warn(\"The objective has been evaluated \"\n",
      "/home/local/AP-TEAM/ostroukhov/.pyenv/versions/habr/lib/python3.6/site-packages/skopt/optimizer/optimizer.py:449: UserWarning: The objective has been evaluated at this point before.\n",
      "  warnings.warn(\"The objective has been evaluated \"\n",
      "/home/local/AP-TEAM/ostroukhov/.pyenv/versions/habr/lib/python3.6/site-packages/skopt/optimizer/optimizer.py:449: UserWarning: The objective has been evaluated at this point before.\n",
      "  warnings.warn(\"The objective has been evaluated \"\n",
      "/home/local/AP-TEAM/ostroukhov/.pyenv/versions/habr/lib/python3.6/site-packages/skopt/optimizer/optimizer.py:449: UserWarning: The objective has been evaluated at this point before.\n",
      "  warnings.warn(\"The objective has been evaluated \"\n",
      "/home/local/AP-TEAM/ostroukhov/.pyenv/versions/habr/lib/python3.6/site-packages/skopt/optimizer/optimizer.py:449: UserWarning: The objective has been evaluated at this point before.\n",
      "  warnings.warn(\"The objective has been evaluated \"\n",
      "/home/local/AP-TEAM/ostroukhov/.pyenv/versions/habr/lib/python3.6/site-packages/skopt/optimizer/optimizer.py:449: UserWarning: The objective has been evaluated at this point before.\n",
      "  warnings.warn(\"The objective has been evaluated \"\n",
      "/home/local/AP-TEAM/ostroukhov/.pyenv/versions/habr/lib/python3.6/site-packages/skopt/optimizer/optimizer.py:449: UserWarning: The objective has been evaluated at this point before.\n",
      "  warnings.warn(\"The objective has been evaluated \"\n",
      "/home/local/AP-TEAM/ostroukhov/.pyenv/versions/habr/lib/python3.6/site-packages/skopt/optimizer/optimizer.py:449: UserWarning: The objective has been evaluated at this point before.\n",
      "  warnings.warn(\"The objective has been evaluated \"\n",
      "/home/local/AP-TEAM/ostroukhov/.pyenv/versions/habr/lib/python3.6/site-packages/skopt/optimizer/optimizer.py:449: UserWarning: The objective has been evaluated at this point before.\n",
      "  warnings.warn(\"The objective has been evaluated \"\n",
      "/home/local/AP-TEAM/ostroukhov/.pyenv/versions/habr/lib/python3.6/site-packages/skopt/optimizer/optimizer.py:449: UserWarning: The objective has been evaluated at this point before.\n",
      "  warnings.warn(\"The objective has been evaluated \"\n",
      "/home/local/AP-TEAM/ostroukhov/.pyenv/versions/habr/lib/python3.6/site-packages/skopt/optimizer/optimizer.py:449: UserWarning: The objective has been evaluated at this point before.\n",
      "  warnings.warn(\"The objective has been evaluated \"\n",
      "/home/local/AP-TEAM/ostroukhov/.pyenv/versions/habr/lib/python3.6/site-packages/skopt/optimizer/optimizer.py:449: UserWarning: The objective has been evaluated at this point before.\n",
      "  warnings.warn(\"The objective has been evaluated \"\n",
      "/home/local/AP-TEAM/ostroukhov/.pyenv/versions/habr/lib/python3.6/site-packages/skopt/optimizer/optimizer.py:449: UserWarning: The objective has been evaluated at this point before.\n",
      "  warnings.warn(\"The objective has been evaluated \"\n",
      "/home/local/AP-TEAM/ostroukhov/.pyenv/versions/habr/lib/python3.6/site-packages/skopt/optimizer/optimizer.py:449: UserWarning: The objective has been evaluated at this point before.\n",
      "  warnings.warn(\"The objective has been evaluated \"\n",
      "/home/local/AP-TEAM/ostroukhov/.pyenv/versions/habr/lib/python3.6/site-packages/skopt/optimizer/optimizer.py:449: UserWarning: The objective has been evaluated at this point before.\n",
      "  warnings.warn(\"The objective has been evaluated \"\n",
      "/home/local/AP-TEAM/ostroukhov/.pyenv/versions/habr/lib/python3.6/site-packages/skopt/optimizer/optimizer.py:449: UserWarning: The objective has been evaluated at this point before.\n",
      "  warnings.warn(\"The objective has been evaluated \"\n",
      "/home/local/AP-TEAM/ostroukhov/.pyenv/versions/habr/lib/python3.6/site-packages/skopt/optimizer/optimizer.py:449: UserWarning: The objective has been evaluated at this point before.\n",
      "  warnings.warn(\"The objective has been evaluated \"\n",
      "/home/local/AP-TEAM/ostroukhov/.pyenv/versions/habr/lib/python3.6/site-packages/skopt/optimizer/optimizer.py:449: UserWarning: The objective has been evaluated at this point before.\n",
      "  warnings.warn(\"The objective has been evaluated \"\n",
      "/home/local/AP-TEAM/ostroukhov/.pyenv/versions/habr/lib/python3.6/site-packages/skopt/optimizer/optimizer.py:449: UserWarning: The objective has been evaluated at this point before.\n",
      "  warnings.warn(\"The objective has been evaluated \"\n",
      "/home/local/AP-TEAM/ostroukhov/.pyenv/versions/habr/lib/python3.6/site-packages/skopt/optimizer/optimizer.py:449: UserWarning: The objective has been evaluated at this point before.\n",
      "  warnings.warn(\"The objective has been evaluated \"\n",
      "/home/local/AP-TEAM/ostroukhov/.pyenv/versions/habr/lib/python3.6/site-packages/skopt/optimizer/optimizer.py:449: UserWarning: The objective has been evaluated at this point before.\n",
      "  warnings.warn(\"The objective has been evaluated \"\n",
      "/home/local/AP-TEAM/ostroukhov/.pyenv/versions/habr/lib/python3.6/site-packages/skopt/optimizer/optimizer.py:449: UserWarning: The objective has been evaluated at this point before.\n",
      "  warnings.warn(\"The objective has been evaluated \"\n",
      "/home/local/AP-TEAM/ostroukhov/.pyenv/versions/habr/lib/python3.6/site-packages/skopt/optimizer/optimizer.py:449: UserWarning: The objective has been evaluated at this point before.\n",
      "  warnings.warn(\"The objective has been evaluated \"\n",
      "/home/local/AP-TEAM/ostroukhov/.pyenv/versions/habr/lib/python3.6/site-packages/skopt/optimizer/optimizer.py:449: UserWarning: The objective has been evaluated at this point before.\n",
      "  warnings.warn(\"The objective has been evaluated \"\n",
      "/home/local/AP-TEAM/ostroukhov/.pyenv/versions/habr/lib/python3.6/site-packages/skopt/optimizer/optimizer.py:449: UserWarning: The objective has been evaluated at this point before.\n",
      "  warnings.warn(\"The objective has been evaluated \"\n",
      "/home/local/AP-TEAM/ostroukhov/.pyenv/versions/habr/lib/python3.6/site-packages/skopt/optimizer/optimizer.py:449: UserWarning: The objective has been evaluated at this point before.\n",
      "  warnings.warn(\"The objective has been evaluated \"\n",
      "/home/local/AP-TEAM/ostroukhov/.pyenv/versions/habr/lib/python3.6/site-packages/skopt/optimizer/optimizer.py:449: UserWarning: The objective has been evaluated at this point before.\n",
      "  warnings.warn(\"The objective has been evaluated \"\n",
      "/home/local/AP-TEAM/ostroukhov/.pyenv/versions/habr/lib/python3.6/site-packages/skopt/optimizer/optimizer.py:449: UserWarning: The objective has been evaluated at this point before.\n",
      "  warnings.warn(\"The objective has been evaluated \"\n",
      "/home/local/AP-TEAM/ostroukhov/.pyenv/versions/habr/lib/python3.6/site-packages/skopt/optimizer/optimizer.py:449: UserWarning: The objective has been evaluated at this point before.\n",
      "  warnings.warn(\"The objective has been evaluated \"\n",
      "/home/local/AP-TEAM/ostroukhov/.pyenv/versions/habr/lib/python3.6/site-packages/skopt/optimizer/optimizer.py:449: UserWarning: The objective has been evaluated at this point before.\n",
      "  warnings.warn(\"The objective has been evaluated \"\n",
      "/home/local/AP-TEAM/ostroukhov/.pyenv/versions/habr/lib/python3.6/site-packages/skopt/optimizer/optimizer.py:449: UserWarning: The objective has been evaluated at this point before.\n",
      "  warnings.warn(\"The objective has been evaluated \"\n",
      "/home/local/AP-TEAM/ostroukhov/.pyenv/versions/habr/lib/python3.6/site-packages/skopt/optimizer/optimizer.py:449: UserWarning: The objective has been evaluated at this point before.\n",
      "  warnings.warn(\"The objective has been evaluated \"\n",
      "/home/local/AP-TEAM/ostroukhov/.pyenv/versions/habr/lib/python3.6/site-packages/skopt/optimizer/optimizer.py:449: UserWarning: The objective has been evaluated at this point before.\n",
      "  warnings.warn(\"The objective has been evaluated \"\n",
      "/home/local/AP-TEAM/ostroukhov/.pyenv/versions/habr/lib/python3.6/site-packages/skopt/optimizer/optimizer.py:449: UserWarning: The objective has been evaluated at this point before.\n",
      "  warnings.warn(\"The objective has been evaluated \"\n",
      "/home/local/AP-TEAM/ostroukhov/.pyenv/versions/habr/lib/python3.6/site-packages/skopt/optimizer/optimizer.py:449: UserWarning: The objective has been evaluated at this point before.\n",
      "  warnings.warn(\"The objective has been evaluated \"\n",
      "/home/local/AP-TEAM/ostroukhov/.pyenv/versions/habr/lib/python3.6/site-packages/skopt/optimizer/optimizer.py:449: UserWarning: The objective has been evaluated at this point before.\n",
      "  warnings.warn(\"The objective has been evaluated \"\n",
      "/home/local/AP-TEAM/ostroukhov/.pyenv/versions/habr/lib/python3.6/site-packages/skopt/optimizer/optimizer.py:449: UserWarning: The objective has been evaluated at this point before.\n",
      "  warnings.warn(\"The objective has been evaluated \"\n",
      "/home/local/AP-TEAM/ostroukhov/.pyenv/versions/habr/lib/python3.6/site-packages/skopt/optimizer/optimizer.py:449: UserWarning: The objective has been evaluated at this point before.\n",
      "  warnings.warn(\"The objective has been evaluated \"\n",
      "/home/local/AP-TEAM/ostroukhov/.pyenv/versions/habr/lib/python3.6/site-packages/skopt/optimizer/optimizer.py:449: UserWarning: The objective has been evaluated at this point before.\n",
      "  warnings.warn(\"The objective has been evaluated \"\n",
      "/home/local/AP-TEAM/ostroukhov/.pyenv/versions/habr/lib/python3.6/site-packages/skopt/optimizer/optimizer.py:449: UserWarning: The objective has been evaluated at this point before.\n",
      "  warnings.warn(\"The objective has been evaluated \"\n",
      "/home/local/AP-TEAM/ostroukhov/.pyenv/versions/habr/lib/python3.6/site-packages/skopt/optimizer/optimizer.py:449: UserWarning: The objective has been evaluated at this point before.\n",
      "  warnings.warn(\"The objective has been evaluated \"\n",
      "/home/local/AP-TEAM/ostroukhov/.pyenv/versions/habr/lib/python3.6/site-packages/skopt/optimizer/optimizer.py:449: UserWarning: The objective has been evaluated at this point before.\n",
      "  warnings.warn(\"The objective has been evaluated \"\n",
      "/home/local/AP-TEAM/ostroukhov/.pyenv/versions/habr/lib/python3.6/site-packages/skopt/optimizer/optimizer.py:449: UserWarning: The objective has been evaluated at this point before.\n",
      "  warnings.warn(\"The objective has been evaluated \"\n",
      "/home/local/AP-TEAM/ostroukhov/.pyenv/versions/habr/lib/python3.6/site-packages/skopt/optimizer/optimizer.py:449: UserWarning: The objective has been evaluated at this point before.\n",
      "  warnings.warn(\"The objective has been evaluated \"\n",
      "/home/local/AP-TEAM/ostroukhov/.pyenv/versions/habr/lib/python3.6/site-packages/skopt/optimizer/optimizer.py:449: UserWarning: The objective has been evaluated at this point before.\n",
      "  warnings.warn(\"The objective has been evaluated \"\n",
      "/home/local/AP-TEAM/ostroukhov/.pyenv/versions/habr/lib/python3.6/site-packages/skopt/optimizer/optimizer.py:449: UserWarning: The objective has been evaluated at this point before.\n",
      "  warnings.warn(\"The objective has been evaluated \"\n",
      "/home/local/AP-TEAM/ostroukhov/.pyenv/versions/habr/lib/python3.6/site-packages/skopt/optimizer/optimizer.py:449: UserWarning: The objective has been evaluated at this point before.\n",
      "  warnings.warn(\"The objective has been evaluated \"\n",
      "/home/local/AP-TEAM/ostroukhov/.pyenv/versions/habr/lib/python3.6/site-packages/skopt/optimizer/optimizer.py:449: UserWarning: The objective has been evaluated at this point before.\n",
      "  warnings.warn(\"The objective has been evaluated \"\n",
      "/home/local/AP-TEAM/ostroukhov/.pyenv/versions/habr/lib/python3.6/site-packages/skopt/optimizer/optimizer.py:449: UserWarning: The objective has been evaluated at this point before.\n",
      "  warnings.warn(\"The objective has been evaluated \"\n",
      "/home/local/AP-TEAM/ostroukhov/.pyenv/versions/habr/lib/python3.6/site-packages/skopt/optimizer/optimizer.py:449: UserWarning: The objective has been evaluated at this point before.\n",
      "  warnings.warn(\"The objective has been evaluated \"\n",
      "/home/local/AP-TEAM/ostroukhov/.pyenv/versions/habr/lib/python3.6/site-packages/skopt/optimizer/optimizer.py:449: UserWarning: The objective has been evaluated at this point before.\n",
      "  warnings.warn(\"The objective has been evaluated \"\n",
      "/home/local/AP-TEAM/ostroukhov/.pyenv/versions/habr/lib/python3.6/site-packages/skopt/optimizer/optimizer.py:449: UserWarning: The objective has been evaluated at this point before.\n",
      "  warnings.warn(\"The objective has been evaluated \"\n",
      "/home/local/AP-TEAM/ostroukhov/.pyenv/versions/habr/lib/python3.6/site-packages/skopt/optimizer/optimizer.py:449: UserWarning: The objective has been evaluated at this point before.\n",
      "  warnings.warn(\"The objective has been evaluated \"\n",
      "/home/local/AP-TEAM/ostroukhov/.pyenv/versions/habr/lib/python3.6/site-packages/skopt/optimizer/optimizer.py:449: UserWarning: The objective has been evaluated at this point before.\n",
      "  warnings.warn(\"The objective has been evaluated \"\n",
      "/home/local/AP-TEAM/ostroukhov/.pyenv/versions/habr/lib/python3.6/site-packages/skopt/optimizer/optimizer.py:449: UserWarning: The objective has been evaluated at this point before.\n",
      "  warnings.warn(\"The objective has been evaluated \"\n",
      "/home/local/AP-TEAM/ostroukhov/.pyenv/versions/habr/lib/python3.6/site-packages/skopt/optimizer/optimizer.py:449: UserWarning: The objective has been evaluated at this point before.\n",
      "  warnings.warn(\"The objective has been evaluated \"\n",
      "/home/local/AP-TEAM/ostroukhov/.pyenv/versions/habr/lib/python3.6/site-packages/skopt/optimizer/optimizer.py:449: UserWarning: The objective has been evaluated at this point before.\n",
      "  warnings.warn(\"The objective has been evaluated \"\n",
      "/home/local/AP-TEAM/ostroukhov/.pyenv/versions/habr/lib/python3.6/site-packages/skopt/optimizer/optimizer.py:449: UserWarning: The objective has been evaluated at this point before.\n",
      "  warnings.warn(\"The objective has been evaluated \"\n"
     ]
    },
    {
     "name": "stdout",
     "output_type": "stream",
     "text": [
      "Best params: [64, 2, 0.5, False, 64, 0.001]\n",
      "Best loss: 0.2595431144966189\n",
      "Best acc: 0.89656\n",
      "Total time: 42971.08967876434\n",
      "Number of iterations: 96\n"
     ]
    }
   ],
   "source": [
    "skopt_search = SkoptOptimizer(96)\n",
    "skopt_search.optimize('checkpoints', params_grid, i_epoch=20)\n",
    "print(f'Best params: {skopt_search.best_params}')\n",
    "print(f'Best loss: {skopt_search.best_loss}')\n",
    "print(f'Best acc: {skopt_search.best_accuracy}')\n",
    "print(f'Total time: {skopt_search.total_time}')\n",
    "print(f'Number of iterations: {len(skopt_search)}')"
   ]
  }
 ],
 "metadata": {
  "kernelspec": {
   "display_name": "Python 3.6.6 (habr)",
   "language": "python",
   "name": "habr"
  },
  "language_info": {
   "codemirror_mode": {
    "name": "ipython",
    "version": 3
   },
   "file_extension": ".py",
   "mimetype": "text/x-python",
   "name": "python",
   "nbconvert_exporter": "python",
   "pygments_lexer": "ipython3",
   "version": "3.6.6"
  }
 },
 "nbformat": 4,
 "nbformat_minor": 4
}
